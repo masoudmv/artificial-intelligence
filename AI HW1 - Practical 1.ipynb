{
 "cells": [
  {
   "cell_type": "markdown",
   "metadata": {
    "id": "fzDFn0-lWLLj"
   },
   "source": [
    "<img src='http://www-scf.usc.edu/~ghasemig/images/sharif.png' alt=\"SUT logo\" width=300 height=300 align=left class=\"saturate\" >\n",
    "\n",
    "<br>\n",
    "<font>\n",
    "<div dir=ltr align=center>\n",
    "<font color=0F5298 size=7>\n",
    "    Artificial Intelligence <br>\n",
    "<font color=2565AE size=5>\n",
    "    Computer Engineering Department <br>\n",
    "    Fall 2024<br>\n",
    "<font color=3C99D size=5>\n",
    "    Practical Assignment 1 - Search <br>\n",
    "<font color=696880 size=4>\n",
    "<div dir=ltr>\n",
    "Dorsa Ghobadi\n",
    "\n",
    "\n",
    "\n",
    "____"
   ]
  },
  {
   "cell_type": "markdown",
   "metadata": {
    "id": "JpqN8CUec1uW"
   },
   "source": [
    "# Personal Data"
   ]
  },
  {
   "cell_type": "code",
   "metadata": {
    "id": "SpkHrVNqb4hI",
    "jupyter": {
     "is_executing": true
    }
   },
   "source": [
    "# from hyperlink.hypothesis import paths\n",
    "from libarchive.ffi import backup_path\n",
    "from networkx.classes import neighbors\n",
    "from toolz import curry\n",
    "\n",
    "# Set your student number\n",
    "student_number = None\n",
    "Name = None\n",
    "Last_Name = None"
   ],
   "outputs": [],
   "execution_count": null
  },
  {
   "cell_type": "markdown",
   "metadata": {
    "id": "vzl107SwWB6S"
   },
   "source": [
    "# Rules\n",
    "- Make sure that all of your cells can be run perfectly.\n",
    "-Do not change the Parts which are not marked with #TODO\n",
    "-Complete the functions or parts that are marked with #TODO\n",
    "-Feel free to add functions if you need!"
   ]
  },
  {
   "cell_type": "markdown",
   "metadata": {
    "id": "Wu2gddB9nNQS"
   },
   "source": [
    "## Libraries"
   ]
  },
  {
   "cell_type": "code",
   "metadata": {
    "id": "Qk1QaRqBPIJl",
    "jupyter": {
     "is_executing": true
    }
   },
   "source": [
    "import numpy as np\n",
    "import matplotlib.pyplot as plt\n",
    "from queue import Queue, LifoQueue, PriorityQueue\n",
    "import random\n"
   ],
   "outputs": [],
   "execution_count": null
  },
  {
   "cell_type": "markdown",
   "metadata": {
    "id": "T5e96dYinNQU"
   },
   "source": [
    "# Uninformed & Informed Search"
   ]
  },
  {
   "cell_type": "markdown",
   "metadata": {
    "id": "JW24WwoXnNQU"
   },
   "source": [
    "<font size=4>\n",
    "Author: Dorsa Ghobadi\n",
    "\t\t\t<br/>\n",
    "                <font color=red>\n",
    "Please run all the cells.\n",
    "     </font>\n",
    "</font>\n",
    "                <br/>\n",
    "    </div>"
   ]
  },
  {
   "cell_type": "markdown",
   "metadata": {
    "id": "slJVvZbpWB6U"
   },
   "source": [
    "## Problem Definition"
   ]
  },
  {
   "cell_type": "markdown",
   "metadata": {
    "id": "N0U5F7qwerDL"
   },
   "source": [
    "In This Problem, We want to investigate Maze Problem with the focus on implementing BFS,DFS and A-Star algorithm to solve it. This notebook is inspired by the [pacman](https://freepacman.org/) game. We generate a random maze and put the pacman in the top left crner and the food in the bottom right corner. The goal is to find a way from the pacman to the food using different search algorithms.\n",
    "\n"
   ]
  },
  {
   "cell_type": "markdown",
   "metadata": {
    "id": "sr7-GT5tnNQW"
   },
   "source": [
    "## Code"
   ]
  },
  {
   "cell_type": "code",
   "metadata": {
    "id": "KbspAR66QaWU",
    "jupyter": {
     "is_executing": true
    }
   },
   "source": [
    "def generate_maze(rows, cols, wall_prob=0.3):\n",
    "    np.random.seed(40)\n",
    "    maze = np.random.choice([0, 1], size=(rows, cols), p=[1-wall_prob, wall_prob])\n",
    "    start = (0, 0)\n",
    "    goal = (rows-1, cols-1)\n",
    "    maze[start] = 0\n",
    "    maze[goal] = 0\n",
    "    return maze, start, goal;\n",
    "\n",
    "def plot_maze(maze, path=None, start=None, goal=None):\n",
    "    plt.imshow(maze, cmap=\"gray\")\n",
    "    if path:\n",
    "        x, y = zip(*path)\n",
    "        plt.plot(y, x, color='yellow', linewidth=2)  # Plot path in yellow\n",
    "    if start:\n",
    "        plt.scatter(start[1], start[0], color='blue', s=100, label='Pacman')  # Pacman start\n",
    "    if goal:\n",
    "        plt.scatter(goal[1], goal[0], color='green', s=100, label='Food')  # Food\n",
    "    plt.legend()\n",
    "    plt.show()"
   ],
   "outputs": [],
   "execution_count": null
  },
  {
   "cell_type": "code",
   "metadata": {
    "colab": {
     "base_uri": "https://localhost:8080/",
     "height": 430
    },
    "id": "7fjj19CUQv2t",
    "outputId": "18ed5b4e-ac72-45fe-a46c-e12d3bef1ac0"
   },
   "source": [
    "rows, cols = 20, 20\n",
    "maze, start, goal = generate_maze(rows, cols)\n",
    "plot_maze(maze, start=start, goal=goal)\n"
   ],
   "outputs": [],
   "execution_count": null
  },
  {
   "cell_type": "code",
   "metadata": {
    "id": "6zCFVRZ0QfY9",
    "jupyter": {
     "is_executing": true
    }
   },
   "source": [
    "    class SearchAlgorithm:\n",
    "        def __init__(self, maze):\n",
    "            self.maze = maze\n",
    "            self.rows, self.cols = maze.shape\n",
    "            self.visited = np.zeros_like(maze)\n",
    "            self.expanded_nodes = 0\n",
    "\n",
    "        def get_neighbors(self, pos):\n",
    "            neighbors = []\n",
    "            directions = [(0, 1), (1, 0), (0, -1), (-1, 0)]  # Right, Down, Left, Up\n",
    "            for d in directions:\n",
    "                new_pos = (pos[0] + d[0], pos[1] + d[1])\n",
    "                if 0 <= new_pos[0] < self.rows and 0 <= new_pos[1] < self.cols and not self.maze[new_pos] and not self.visited[new_pos]:\n",
    "                    neighbors.append(new_pos)\n",
    "            return neighbors\n"
   ],
   "outputs": [],
   "execution_count": null
  },
  {
   "cell_type": "code",
   "metadata": {
    "id": "Nx3NpMXKSsBj"
   },
   "source": [
    "def plot_algorithm(maze, start, goal, name, algorithm):\n",
    "  path = algorithm.search(start, goal)\n",
    "  result = {'path': path, 'expanded_nodes': algorithm.expanded_nodes}\n",
    "  print(f\"{name}: Expanded Nodes = {algorithm.expanded_nodes}\")\n",
    "  plot_maze(maze, path, start, goal)\n",
    "\n"
   ],
   "outputs": [],
   "execution_count": null
  },
  {
   "cell_type": "code",
   "metadata": {
    "id": "1WBO5x4wQjXa"
   },
   "source": [
    "def reconstruct_path(backtrack_paths, start, goal):\n",
    "    if not backtrack_paths or goal not in backtrack_paths:\n",
    "        return None\n",
    "    path = []  # A list to store nodes\n",
    "    current_node = goal\n",
    "\n",
    "    while current_node is not None:\n",
    "        path.append(current_node)  # Append current node\n",
    "        if current_node == start:\n",
    "            break  # Stop if we reached the start\n",
    "        current_node = backtrack_paths.get(current_node)  # Get the previous node\n",
    "\n",
    "    path.reverse()  # Reverse to get the path from start to goal\n",
    "    return path\n",
    "\n",
    "\n",
    "class DFS(SearchAlgorithm):\n",
    "\n",
    "    def search(self, start, goal):\n",
    "        stack = [start]\n",
    "        backtrack_paths = {}  # A dictionary that stores the parent of a node as the value of a key\n",
    "        \n",
    "        while stack:\n",
    "            current_node = stack.pop()\n",
    "\n",
    "            if current_node == goal:\n",
    "                return reconstruct_path(backtrack_paths, start, goal)\n",
    "\n",
    "            neighbors = self.get_neighbors(current_node)\n",
    "\n",
    "            for neighbor in neighbors:\n",
    "                x, y = neighbor[0], neighbor[1]\n",
    "                if self.visited[x, y] == 0:\n",
    "                    stack.append(neighbor)\n",
    "                    self.visited[x, y] = 1\n",
    "                    self.expanded_nodes += 1\n",
    "                    backtrack_paths[neighbor] = current_node  # Correctly update backtrack paths\n",
    "\n",
    "        # If the goal was not found, return None\n",
    "        return None\n",
    "\n"
   ],
   "outputs": [],
   "execution_count": null
  },
  {
   "cell_type": "code",
   "metadata": {
    "colab": {
     "base_uri": "https://localhost:8080/",
     "height": 448
    },
    "id": "6yqEJGmbSiu4",
    "outputId": "0f89b62a-0e5e-4e3c-e531-6b4c55599564"
   },
   "source": [
    "plot_algorithm(maze,start,goal,'DFS', DFS(maze))"
   ],
   "outputs": [],
   "execution_count": null
  },
  {
   "cell_type": "code",
   "metadata": {
    "id": "3lnWMrdQQmIP"
   },
   "source": [
    "from collections import deque\n",
    "\n",
    "class BFS(SearchAlgorithm):\n",
    "\n",
    "    def search(self, start, goal):\n",
    "        queue = deque([start])  # Initialize the queue with the start node\n",
    "        backtrack_paths = {}  # Store the parent of each node\n",
    "        self.visited[start[0], start[1]] = 1  # Mark the start node as visited\n",
    "\n",
    "        while queue:\n",
    "            current_node = queue.popleft()  # Dequeue a node from the front of the queue\n",
    "\n",
    "            if current_node == goal:\n",
    "                return reconstruct_path(backtrack_paths, start, goal)\n",
    "\n",
    "            neighbors = self.get_neighbors(current_node)\n",
    "\n",
    "            for neighbor in neighbors:\n",
    "                x, y = neighbor[0], neighbor[1]\n",
    "                if self.visited[x, y] == 0:  # If the neighbor hasn't been visited\n",
    "                    self.visited[x, y] = 1  # Mark as visited\n",
    "                    backtrack_paths[neighbor] = current_node  # Store parent\n",
    "                    queue.append(neighbor)  # Enqueue the neighbor\n",
    "                    self.expanded_nodes += 1  # Increment the expanded nodes counter\n",
    "\n",
    "        # If the goal was not found, return None\n",
    "        return None\n",
    "\n",
    "\n"
   ],
   "outputs": [],
   "execution_count": null
  },
  {
   "cell_type": "code",
   "metadata": {
    "colab": {
     "base_uri": "https://localhost:8080/",
     "height": 448
    },
    "id": "k6xU_RZ9WJiC",
    "outputId": "209a3b9c-09b3-442c-d6e7-0bfc5d61064d",
    "scrolled": true
   },
   "source": [
    "plot_algorithm(maze,start,goal,'BFS', BFS(maze))"
   ],
   "outputs": [],
   "execution_count": null
  },
  {
   "cell_type": "markdown",
   "metadata": {
    "id": "Arx5saD1WB6X"
   },
   "source": [
    "Question:\n",
    "\n",
    "So far, we have explored three uninformed search methods: DFS, BFS. Briefly explain the advantages and disadvantages of each method in the context of the Maze Problem and compare their performance based on your observations (consider both time and memory)."
   ]
  },
  {
   "cell_type": "code",
   "metadata": {
    "id": "cMlxY5vAQpWM"
   },
   "source": [
    "class AStar(SearchAlgorithm):\n",
    "    def heuristic(self, pos, goal):\n",
    "        #TODO: implement A* heuristic\n",
    "        deltaX = goal[0] - pos[0]\n",
    "        deltaY = goal[1] - pos[1]\n",
    "        manhattan_distance = deltaX + deltaY\n",
    "        return manhattan_distance\n",
    "\n",
    "    def g(self, backtrack_paths, start, pos):\n",
    "        g = 0\n",
    "        if not backtrack_paths or pos not in backtrack_paths:\n",
    "            return 0 # ???\n",
    "        current_node = pos\n",
    "\n",
    "        while current_node is not None:\n",
    "            g += 1 # update g(n)\n",
    "            if current_node == start:\n",
    "                break  # Stop if we reached the start\n",
    "            current_node = backtrack_paths.get(current_node)  # Get the previous node\n",
    "            \n",
    "        return g\n",
    "\n",
    "    def f(self, start, goal, pos, backtrack_paths):\n",
    "        h = self.heuristic(pos, goal)\n",
    "        g = self.g(backtrack_paths, start, pos)\n",
    "        return h + g\n",
    "\n",
    "    def pop(self, fringe, start, goal, backtrack_paths):\n",
    "        if backtrack_paths is None:\n",
    "            return None\n",
    "\n",
    "        smallest_f = 100000000\n",
    "        smalles_index = 0\n",
    "        i = 0\n",
    "        while i < len(fringe):\n",
    "            pos = fringe[i]\n",
    "            f = self.f(start, goal, pos, backtrack_paths)\n",
    "            if f < smallest_f:\n",
    "                smallest_f = f\n",
    "                smallest_index = i\n",
    "            i += 1\n",
    "        node = fringe[smallest_index]\n",
    "        fringe.pop(smallest_index)\n",
    "        return node, fringe\n",
    "                \n",
    "        \n",
    "\n",
    "    def search(self, start, goal):\n",
    "        #TODO: implement A* search\n",
    "        fringe = [start]\n",
    "        backtrack_paths = {}  # A dictionary that stores the parent of a node as the value of a key\n",
    "\n",
    "        while fringe:\n",
    "            current_node, fringe = self.pop(fringe, start, goal, backtrack_paths)\n",
    "            \n",
    "            if current_node == goal:\n",
    "                return reconstruct_path(backtrack_paths, start, goal)\n",
    "\n",
    "            neighbors = self.get_neighbors(current_node)\n",
    "\n",
    "            for neighbor in neighbors:\n",
    "                x, y = neighbor[0], neighbor[1]\n",
    "                if self.visited[x, y] == 0:\n",
    "                    fringe.append(neighbor)\n",
    "                    self.visited[x, y] = 1\n",
    "                    self.expanded_nodes += 1\n",
    "                    backtrack_paths[neighbor] = current_node  # Correctly update backtrack paths\n",
    "        \n",
    "        #return the path which is a list of tuples\n",
    "        return None\n",
    "\n",
    "\n"
   ],
   "outputs": [],
   "execution_count": null
  },
  {
   "cell_type": "code",
   "metadata": {
    "colab": {
     "base_uri": "https://localhost:8080/",
     "height": 448
    },
    "id": "hMNvHQzmWQCz",
    "outputId": "6826127d-814b-49a4-e723-b964338b7d42"
   },
   "source": [
    "plot_algorithm(maze,start,goal,'A*', AStar(maze))"
   ],
   "outputs": [],
   "execution_count": null
  },
  {
   "cell_type": "markdown",
   "metadata": {
    "id": "lWc_eAu1WB6f"
   },
   "source": [
    "Question:\n",
    "\n",
    "Explain your heuristic and observation's result. Also, compare the A* method with Uniformed search in the context of the Maze problem."
   ]
  },
  {
   "cell_type": "markdown",
   "metadata": {
    "id": "JsKDS9TBa3UO"
   },
   "source": [
    "Now we want to explore a situation where each cell of the maze has an entrance cost, which means in order to enter that cell we must pay a fixed price. you should implement the above search algorithms with the least payed cost."
   ]
  },
  {
   "cell_type": "code",
   "metadata": {
    "id": "BuhIFxUuQ1Ac"
   },
   "source": [
    "def generate_maze_with_costs(rows, cols, wall_prob=0.3):\n",
    "    np.random.seed(137)\n",
    "    maze = np.random.choice([0, 1], size=(rows, cols), p=[1-wall_prob, wall_prob])\n",
    "    costs = np.random.randint(1, 11, size=(rows, cols))\n",
    "    start = (0, 0)\n",
    "    goal = (rows-1, cols-1)\n",
    "    maze[start] = 0\n",
    "    maze[goal] = 0\n",
    "    return maze, costs, start, goal\n",
    "\n",
    "def plot_maze_with_costs(maze, costs, path=None, start=None, goal=None):\n",
    "    plt.imshow(maze, cmap=\"gray\", vmin=0, vmax=1)\n",
    "\n",
    "    for i in range(maze.shape[0]):\n",
    "        for j in range(maze.shape[1]):\n",
    "            if maze[i, j] == 0:\n",
    "                cl = 'red' if costs[i,j] > 6 else ('green' if costs[i,j] < 4 else 'orange')\n",
    "                plt.text(j, i, str(costs[i, j]), ha='center', va='center', color=cl, fontsize=8)\n",
    "\n",
    "    if path:\n",
    "        x, y = zip(*path)\n",
    "        plt.plot(y, x, color='yellow', linewidth=2)  # Plot path in yellow\n",
    "    if start:\n",
    "        plt.scatter(start[1], start[0], color='blue', s=100, label='Pacman')  # Pacman start\n",
    "    if goal:\n",
    "        plt.scatter(goal[1], goal[0], color='pink', s=100, label='Food')  # Food\n",
    "    plt.legend()\n",
    "    plt.show()\n"
   ],
   "outputs": [],
   "execution_count": null
  },
  {
   "cell_type": "code",
   "metadata": {
    "colab": {
     "base_uri": "https://localhost:8080/",
     "height": 430
    },
    "id": "qnPvtoVIWkK3",
    "outputId": "4814e9c8-0cdb-4dd2-d509-af4a9058a1e9"
   },
   "source": [
    "rows, cols = 20, 20\n",
    "maze, costs, start, goal = generate_maze_with_costs(rows, cols)\n",
    "plot_maze_with_costs(maze, costs, start=start, goal=goal)"
   ],
   "outputs": [],
   "execution_count": null
  },
  {
   "cell_type": "code",
   "metadata": {
    "id": "iKZr41AtQ4SJ"
   },
   "source": [
    "# Search Algorithms\n",
    "class SearchAlgorithmWithCosts:\n",
    "    def __init__(self, maze, costs):\n",
    "        self.maze = maze\n",
    "        self.costs = costs\n",
    "        self.rows, self.cols = maze.shape\n",
    "        self.visited = np.zeros_like(maze)\n",
    "        self.expanded_nodes = 0\n",
    "\n",
    "    def get_neighbors(self, pos):\n",
    "        neighbors = []\n",
    "        directions = [(0, 1), (1, 0), (0, -1), (-1, 0)]  # Right, Down, Left, Up\n",
    "        for d in directions:\n",
    "            new_pos = (pos[0] + d[0], pos[1] + d[1])\n",
    "            if 0 <= new_pos[0] < self.rows and 0 <= new_pos[1] < self.cols and not self.maze[new_pos] and not self.visited[new_pos]:\n",
    "                neighbors.append(new_pos)\n",
    "        return neighbors\n",
    "\n",
    "    def calculate_total_cost(self, path):\n",
    "        return sum(self.costs[pos] for pos in path)\n",
    "\n"
   ],
   "outputs": [],
   "execution_count": null
  },
  {
   "cell_type": "code",
   "metadata": {
    "id": "Jg3GeR0HWqoI"
   },
   "source": [
    "def plot_algorithms_with_costs(maze, costs, start, goal,name,algorithm):\n",
    "    path, total_cost = algorithm.search(start, goal)\n",
    "    result = {'path': path, 'expanded_nodes': algorithm.expanded_nodes, 'total_cost': total_cost}\n",
    "    print(f\"{name}: Expanded Nodes = {algorithm.expanded_nodes}, Total Cost = {total_cost}\")\n",
    "    plot_maze_with_costs(maze, costs, path, start, goal)\n"
   ],
   "outputs": [],
   "execution_count": null
  },
  {
   "cell_type": "code",
   "metadata": {
    "id": "7_x0UCXXQ7TS"
   },
   "source": [
    "class DFSWithCosts(SearchAlgorithmWithCosts):\n",
    "    def search(self, start, goal):\n",
    "        stack = [start]\n",
    "        backtrack_paths = {}  # A dictionary that stores the parent of a node as the value of a key\n",
    "        \n",
    "        while stack:\n",
    "            current_node = stack.pop()\n",
    "\n",
    "            if current_node == goal:\n",
    "                best_path = reconstruct_path(backtrack_paths, start, goal)\n",
    "                best_cost = self.calculate_total_cost(best_path)\n",
    "                return best_path, best_cost\n",
    "\n",
    "\n",
    "            neighbors = self.get_neighbors(current_node)\n",
    "\n",
    "            for neighbor in neighbors:\n",
    "                x, y = neighbor[0], neighbor[1]\n",
    "                if self.visited[x, y] == 0:\n",
    "                    stack.append(neighbor)\n",
    "                    self.visited[x, y] = 1\n",
    "                    self.expanded_nodes += 1\n",
    "                    backtrack_paths[neighbor] = current_node  # Correctly update backtrack paths\n",
    "\n",
    "        # If the goal was not found, return None\n",
    "        return None, float('inf')\n"
   ],
   "outputs": [],
   "execution_count": null
  },
  {
   "cell_type": "code",
   "metadata": {
    "colab": {
     "base_uri": "https://localhost:8080/",
     "height": 448
    },
    "id": "5G3yP4AfXH5r",
    "outputId": "c038bd89-f1d0-4d29-a634-5ad1e71159f3"
   },
   "source": [
    "plot_algorithms_with_costs(maze, costs, start, goal,'DFS',DFSWithCosts(maze,costs))"
   ],
   "outputs": [],
   "execution_count": null
  },
  {
   "cell_type": "code",
   "metadata": {
    "id": "tI7tEV0kQ9bU"
   },
   "source": [
    "# BFS Algorithm with Costs\n",
    "class BFSWithCosts(SearchAlgorithmWithCosts):\n",
    "    def search(self, start, goal):\n",
    "        queue = deque([start])  # Initialize the queue with the start node\n",
    "        backtrack_paths = {}  # Store the parent of each node\n",
    "        self.visited[start[0], start[1]] = 1  # Mark the start node as visited\n",
    "\n",
    "        while queue:\n",
    "            current_node = queue.popleft()  # Dequeue a node from the front of the queue\n",
    "\n",
    "            if current_node == goal:\n",
    "                best_path = reconstruct_path(backtrack_paths, start, goal)\n",
    "                best_cost = self.calculate_total_cost(best_path)\n",
    "                return best_path, best_cost\n",
    "\n",
    "            neighbors = self.get_neighbors(current_node)\n",
    "\n",
    "            for neighbor in neighbors:\n",
    "                x, y = neighbor[0], neighbor[1]\n",
    "                if self.visited[x, y] == 0:  # If the neighbor hasn't been visited\n",
    "                    self.visited[x, y] = 1  # Mark as visited\n",
    "                    backtrack_paths[neighbor] = current_node  # Store parent\n",
    "                    queue.append(neighbor)  # Enqueue the neighbor\n",
    "                    self.expanded_nodes += 1  # Increment the expanded nodes counter\n",
    "\n",
    "        # If the goal was not found, return None\n",
    "        return None, float('inf')"
   ],
   "outputs": [],
   "execution_count": null
  },
  {
   "cell_type": "code",
   "metadata": {
    "colab": {
     "base_uri": "https://localhost:8080/",
     "height": 448
    },
    "id": "0yEuFh49XVLS",
    "outputId": "6334a3cf-0b36-4b71-ac35-bee27670efdb"
   },
   "source": [
    "plot_algorithms_with_costs(maze, costs, start, goal,'BFS',BFSWithCosts(maze,costs))"
   ],
   "outputs": [],
   "execution_count": null
  },
  {
   "cell_type": "code",
   "metadata": {
    "id": "C2JXV55dRAaQ"
   },
   "source": [
    "# A* Algorithm with Costs\n",
    "class AStarWithCosts(SearchAlgorithmWithCosts):\n",
    "    def heuristic(self, pos, goal):\n",
    "        #TODO: implement A* heuristic\n",
    "        deltaX = goal[0] - pos[0]\n",
    "        deltaY = goal[1] - pos[1]\n",
    "        manhattan_distance = deltaX + deltaY\n",
    "        return manhattan_distance\n",
    "\n",
    "    def g(self, backtrack_paths, start, pos):\n",
    "        g = 0\n",
    "        if not backtrack_paths or pos not in backtrack_paths:\n",
    "            return 0 # ???\n",
    "        current_node = pos\n",
    "\n",
    "        while current_node is not None:\n",
    "            g += costs[pos] # update g(n)\n",
    "            if current_node == start:\n",
    "                break  # Stop if we reached the start\n",
    "            current_node = backtrack_paths.get(current_node)  # Get the previous node\n",
    "            \n",
    "        return g\n",
    "\n",
    "    def f(self, start, goal, pos, backtrack_paths):\n",
    "        h = self.heuristic(pos, goal)\n",
    "        g = self.g(backtrack_paths, start, pos)\n",
    "        return h + g\n",
    "\n",
    "    def pop(self, fringe, start, goal, backtrack_paths):\n",
    "        if backtrack_paths is None:\n",
    "            return None\n",
    "\n",
    "        smallest_f = 100000000\n",
    "        smalles_index = 0\n",
    "        \n",
    "        i = 0\n",
    "        while i < len(fringe):\n",
    "            pos = fringe[i]\n",
    "            f = self.f(start, goal, pos, backtrack_paths)\n",
    "            if f < smallest_f:\n",
    "                smallest_f = f\n",
    "                smallest_index = i\n",
    "            i += 1\n",
    "            \n",
    "        node = fringe[smallest_index]\n",
    "        fringe.pop(smallest_index)\n",
    "        return node, fringe\n",
    "\n",
    "    def search(self, start, goal):\n",
    "        #TODO: implement A* search\n",
    "        #returns the best path(list of tuples) and best cost(int)\n",
    "\n",
    "        best_cost = float('inf')\n",
    "        best_path = None\n",
    "\n",
    "        return best_path, best_cost\n",
    "\n",
    "    def search(self, start, goal):\n",
    "        #TODO: implement A* search\n",
    "\n",
    "        best_cost = float('inf')\n",
    "        best_path = None\n",
    "        \n",
    "        fringe = [start]\n",
    "        backtrack_paths = {}  # A dictionary that stores the parent of a node as the value of a key\n",
    "\n",
    "        while fringe:\n",
    "            current_node, fringe = self.pop(fringe, start, goal, backtrack_paths)\n",
    "            \n",
    "            if current_node == goal:\n",
    "                best_path = reconstruct_path(backtrack_paths, start, goal)\n",
    "                best_cost = self.calculate_total_cost(best_path)\n",
    "                return best_path, best_cost\n",
    "                \n",
    "            neighbors = self.get_neighbors(current_node)\n",
    "\n",
    "            for neighbor in neighbors:\n",
    "                x, y = neighbor[0], neighbor[1]\n",
    "                if self.visited[x, y] == 0:\n",
    "                    fringe.append(neighbor)\n",
    "                    self.visited[x, y] = 1\n",
    "                    self.expanded_nodes += 1\n",
    "                    backtrack_paths[neighbor] = current_node  # Correctly update backtrack paths\n",
    "        \n",
    "        #return the path which is a list of tuples\n",
    "        return best_path, best_cost\n"
   ],
   "outputs": [],
   "execution_count": null
  },
  {
   "cell_type": "code",
   "metadata": {
    "colab": {
     "base_uri": "https://localhost:8080/",
     "height": 448
    },
    "id": "ijmSjmNnXbSL",
    "outputId": "97e56130-b90d-47d9-9506-99d4c285c7d7"
   },
   "source": [
    "plot_algorithms_with_costs(maze, costs, start, goal,'A*',AStarWithCosts(maze,costs))"
   ],
   "outputs": [],
   "execution_count": null
  },
  {
   "cell_type": "markdown",
   "metadata": {
    "id": "BaguGWU7cCwL"
   },
   "source": [
    "Question:\n",
    "\n",
    "now that you have explored these methods(DFS, BFS,A star) in priced manner, Briefly explain the advantages and disadvantages of each method in the context of the Maze Problem and compare their performance based on your observations."
   ]
  }
 ],
 "metadata": {
  "colab": {
   "provenance": []
  },
  "kernelspec": {
   "display_name": "Python 3 (ipykernel)",
   "language": "python",
   "name": "python3"
  },
  "language_info": {
   "codemirror_mode": {
    "name": "ipython",
    "version": 3
   },
   "file_extension": ".py",
   "mimetype": "text/x-python",
   "name": "python",
   "nbconvert_exporter": "python",
   "pygments_lexer": "ipython3",
   "version": "3.12.4"
  }
 },
 "nbformat": 4,
 "nbformat_minor": 4
}

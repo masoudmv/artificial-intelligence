{
 "cells": [
  {
   "cell_type": "markdown",
   "id": "1f92315ba2ff9b88",
   "metadata": {},
   "source": [
    "\n",
    "<br>\n",
    "<font>\n",
    "<div dir=ltr align=center>\n",
    "<img src=\"https://cdn.freebiesupply.com/logos/large/2x/sharif-logo-png-transparent.png\" width=150 height=150> <br>\n",
    "<font color=0F5298 size=7>\n",
    "Artificial Intelligence <br>\n",
    "<font color=2565AE size=5>\n",
    "Computer Engineering Department <br>\n",
    "Spring 2024<br>\n",
    "<font color=3C99D size=5>\n",
    "Practical Assignment - Minimax <br>\n",
    "<font color=696880 size=4>\n",
    "Ali Aghayari\n",
    "\n",
    "\n",
    "____"
   ]
  },
  {
   "cell_type": "markdown",
   "id": "d084a089de0a2fe",
   "metadata": {},
   "source": [
    "# P0 : Game explanation and environment setup (0 points)"
   ]
  },
  {
   "cell_type": "markdown",
   "id": "48e5391a5b221a80",
   "metadata": {},
   "source": [
    "In this Jupyter notebook, we aim to develop the AI logic for the game **Connect4**. Players take turns dropping pieces into a grid, and the first player to align four consecutive pieces vertically, horizontally, or diagonally wins. The focus is on creating an intelligent AI opponent using the minimax algorithm with alpha-beta pruning to deliver a challenging gameplay experience.\n",
    "\n",
    "<span style=\"color: red;\">However, there’s an added twist: after either player drops a piece, there is a 12.5% chance that the entire board will rotate 90 degrees clockwise, changing the direction of gravity as well! Keep this rule in mind when implementing your heuristic, as your AI will face a tough challenge ahead.</span>\n",
    "\n",
    "<br>\n",
    "\n",
    "Note: The winning condition will be checked after applying the rotation. If both sides have winning conditions, the player who made the last move will lose.\n",
    "\n",
    "<br>\n",
    "Note: For full clarification, the following occurs:\n",
    "- Some players make their moves.\n",
    "- Rotations happens. (12.5%)\n",
    "- New gravity is applied to every piece on the board. (12.5%)\n",
    "- The winning condition is then checked.\n",
    "\n",
    "<br>\n",
    "Rules: Do not modify the code cells that don’t have TODO comments, except for those that are explicitly mentioned as okay to change."
   ]
  },
  {
   "cell_type": "markdown",
   "id": "ac9f632d947ddfcb",
   "metadata": {},
   "source": [
    "First, we will define some constants to make the code cleaner, more organized, and to set up the game environment."
   ]
  },
  {
   "cell_type": "code",
   "execution_count": 1,
   "id": "73bc4e502ad9b405",
   "metadata": {
    "ExecuteTime": {
     "end_time": "2024-09-28T21:09:37.982928Z",
     "start_time": "2024-09-28T21:09:37.976825Z"
    }
   },
   "outputs": [],
   "source": [
    "# Game Constants\n",
    "ROW_COUNT = 7\n",
    "COLUMN_COUNT = 7\n",
    "WINDOW_LENGTH = 4\n",
    "EMPTY = 0\n",
    "\n",
    "# Players and Pieces\n",
    "PLAYER = 0\n",
    "AI = 1\n",
    "EMPTY_PIECE = 0\n",
    "PLAYER_PIECE = 1\n",
    "AI_PIECE = 2\n",
    "\n",
    "# Colors (RGB values) - you can change the colors to your liking\n",
    "FG_COLOR = (0, 0, 255)\n",
    "BG_COLOR = (0, 0, 0)\n",
    "P1_COLOR = (255, 0, 0)\n",
    "P2_COLOR = (0, 255, 0)\n",
    "\n",
    "# Pygame Constants\n",
    "SQUARESIZE = 80\n",
    "RADIUS = SQUARESIZE // 2 - 5\n",
    "SCREEN_WIDTH = COLUMN_COUNT * SQUARESIZE\n",
    "SCREEN_HEIGHT = (ROW_COUNT + 1) * SQUARESIZE"
   ]
  },
  {
   "cell_type": "markdown",
   "id": "104e905659d70540",
   "metadata": {},
   "source": [
    "These libraries are sufficient to complete this task, but feel free to add any additional imports you may need."
   ]
  },
  {
   "cell_type": "code",
   "execution_count": 4,
   "id": "b8df99273bd4c499",
   "metadata": {
    "ExecuteTime": {
     "end_time": "2024-09-28T21:08:06.586200Z",
     "start_time": "2024-09-28T21:08:06.581699Z"
    }
   },
   "outputs": [
    {
     "name": "stdout",
     "output_type": "stream",
     "text": [
      "Requirement already satisfied: pygame in c:\\users\\masoud\\anaconda3\\lib\\site-packages (2.6.1)\n",
      "pygame 2.6.1 (SDL 2.28.4, Python 3.12.4)\n",
      "Hello from the pygame community. https://www.pygame.org/contribute.html\n"
     ]
    }
   ],
   "source": [
    "!pip install pygame\n",
    "\n",
    "import numpy as np\n",
    "import random\n",
    "import pygame\n",
    "import math\n",
    "import time\n",
    "\n",
    "# Additional libraries can be imported here if needed\n"
   ]
  },
  {
   "cell_type": "markdown",
   "id": "ca5858d5d454d025",
   "metadata": {},
   "source": [
    "# P1 : Util functions (20 points)"
   ]
  },
  {
   "cell_type": "markdown",
   "id": "b8487d61b9fc8d53",
   "metadata": {},
   "source": [
    "We need to initialize the game board as an empty 2D array with dimensions of ROW_COUNT by COLUMN_COUNT."
   ]
  },
  {
   "cell_type": "code",
   "execution_count": 8,
   "id": "bc91941833b5a626",
   "metadata": {
    "ExecuteTime": {
     "end_time": "2024-09-28T21:08:07.867328Z",
     "start_time": "2024-09-28T21:08:07.863137Z"
    }
   },
   "outputs": [],
   "source": [
    "def create_board():\n",
    "    # TODO: Follow the instructions as described.\n",
    "    board = np.zeros((ROW_COUNT, COLUMN_COUNT), dtype=int)\n",
    "    return board"
   ]
  },
  {
   "cell_type": "markdown",
   "id": "a3f258636ead182e",
   "metadata": {},
   "source": [
    "Fill in the code to find the valid columns where a piece can be dropped."
   ]
  },
  {
   "cell_type": "code",
   "execution_count": 11,
   "id": "fce8973a7f553f23",
   "metadata": {
    "ExecuteTime": {
     "end_time": "2024-09-28T21:08:08.308764Z",
     "start_time": "2024-09-28T21:08:08.306395Z"
    }
   },
   "outputs": [],
   "source": [
    "def is_valid_location(board, col):\n",
    "    # TODO: Follow the instructions as described.\n",
    "    is_valid = board[ROW_COUNT-1][col] == EMPTY\n",
    "    return is_valid"
   ]
  },
  {
   "cell_type": "code",
   "execution_count": 13,
   "id": "c63ef2212d19db4e",
   "metadata": {
    "ExecuteTime": {
     "end_time": "2024-09-28T21:08:08.555838Z",
     "start_time": "2024-09-28T21:08:08.550469Z"
    }
   },
   "outputs": [],
   "source": [
    "def get_valid_locations(board):\n",
    "    # TODO: Follow the instructions as described.\n",
    "    return [col for col in range(COLUMN_COUNT) if is_valid_location(board, col)]"
   ]
  },
  {
   "cell_type": "markdown",
   "id": "ca0127402f546d09",
   "metadata": {},
   "source": [
    "Fill in the code to find the valid row for the given column where a piece can be dropped."
   ]
  },
  {
   "cell_type": "code",
   "execution_count": 16,
   "id": "b0631de7b344eb51",
   "metadata": {
    "ExecuteTime": {
     "end_time": "2024-09-28T21:08:08.980560Z",
     "start_time": "2024-09-28T21:08:08.976882Z"
    }
   },
   "outputs": [],
   "source": [
    "def get_next_open_row(board, col):\n",
    "    # TODO: Follow the instructions as described.\n",
    "    for row in range(0, ROW_COUNT, 1):\n",
    "        if board[row][col] == EMPTY:\n",
    "            return row\n",
    "    return None"
   ]
  },
  {
   "cell_type": "markdown",
   "id": "1ccd121d353ef733",
   "metadata": {},
   "source": [
    "Fill in the code to drop a piece in the specified column of the board."
   ]
  },
  {
   "cell_type": "code",
   "execution_count": 19,
   "id": "3a9517a62fa6fe29",
   "metadata": {
    "ExecuteTime": {
     "end_time": "2024-09-28T21:08:09.450921Z",
     "start_time": "2024-09-28T21:08:09.447239Z"
    }
   },
   "outputs": [],
   "source": [
    "def drop_piece(board, col, piece):\n",
    "    # TODO: Follow the instructions as described.\n",
    "    row = get_next_open_row(board, col)\n",
    "    if row is not None: \n",
    "        board[row][col] = piece"
   ]
  },
  {
   "cell_type": "markdown",
   "id": "ee8e5e96d6ff0545",
   "metadata": {},
   "source": [
    "Fill in the code to check if the specified piece has won the game."
   ]
  },
  {
   "cell_type": "code",
   "execution_count": 22,
   "id": "86d2cc41fa8f0572",
   "metadata": {
    "ExecuteTime": {
     "end_time": "2024-09-28T21:08:09.947674Z",
     "start_time": "2024-09-28T21:08:09.937289Z"
    }
   },
   "outputs": [],
   "source": [
    "def winning_move(board, piece):\n",
    "    # TODO: Follow the instructions as described.\n",
    "\n",
    "    for row in range(ROW_COUNT):\n",
    "        for col in range(COLUMN_COUNT - 3):\n",
    "            if all(board[row][col + i] == piece for i in range(WINDOW_LENGTH)):\n",
    "                return True\n",
    "\n",
    "    for col in range(COLUMN_COUNT):\n",
    "        for row in range(ROW_COUNT - 3):\n",
    "            if all(board[row + i][col] == piece for i in range(WINDOW_LENGTH)):\n",
    "                return True\n",
    "\n",
    "    for row in range(ROW_COUNT - 3):\n",
    "        for col in range(COLUMN_COUNT - 3):\n",
    "            if all(board[row + i][col + i] == piece for i in range(WINDOW_LENGTH)):\n",
    "                return True\n",
    "\n",
    "    for row in range(3, ROW_COUNT):\n",
    "        for col in range(COLUMN_COUNT - 3):\n",
    "            if all(board[row - i][col + i] == piece for i in range(WINDOW_LENGTH)):\n",
    "                return True\n",
    "\n",
    "    return False"
   ]
  },
  {
   "cell_type": "markdown",
   "id": "d7e6509896da524a",
   "metadata": {},
   "source": [
    "# P2 : Scoring function and Minimax implementation (50 points)"
   ]
  },
  {
   "cell_type": "markdown",
   "id": "5e4bde4e2fb1d81",
   "metadata": {},
   "source": [
    "Fill in the code to score the current situation for the player. Hint: You can divide the board into separate windows, score each window individually for the given piece, and sum the scores to obtain the total board score for that piece."
   ]
  },
  {
   "cell_type": "code",
   "execution_count": 53,
   "id": "a59db402707105ea",
   "metadata": {
    "ExecuteTime": {
     "end_time": "2024-09-28T21:08:11.277614Z",
     "start_time": "2024-09-28T21:08:11.272534Z"
    }
   },
   "outputs": [],
   "source": [
    "def evaluate_window(window, piece):\n",
    "    score = 0\n",
    "    opp_piece = PLAYER_PIECE if piece == AI_PIECE else AI_PIECE\n",
    "\n",
    "    if window.count(piece) == 4:\n",
    "        score += 100  \n",
    "    elif window.count(piece) == 3 and window.count(EMPTY) == 1:\n",
    "        score += 50  \n",
    "    elif window.count(piece) == 2 and window.count(EMPTY) == 2:\n",
    "        score += 10  \n",
    "\n",
    "    if window.count(opp_piece) == 3 and window.count(EMPTY) == 1:\n",
    "        score -= 30\n",
    "\n",
    "    return score\n"
   ]
  },
  {
   "cell_type": "code",
   "execution_count": 28,
   "id": "74a9a841385a26a1",
   "metadata": {
    "ExecuteTime": {
     "end_time": "2024-09-28T21:08:11.748502Z",
     "start_time": "2024-09-28T21:08:11.742105Z"
    }
   },
   "outputs": [],
   "source": [
    "def score_position(board, piece):\n",
    "    # TODO: Follow the instructions as described.\n",
    "    # NOTE: Split the board into separate windows and sum up the scores for each window.\n",
    "    # NOTE: Adjust the scoring logic to account for the additional game rules.\n",
    "    # return aggregated score\n",
    "    score = 0\n",
    "    \n",
    "    center_array = [int(board[row][COLUMN_COUNT // 2]) for row in range(ROW_COUNT)]\n",
    "    center_count = center_array.count(piece)\n",
    "    score += center_count * 6  \n",
    "\n",
    "    for row in range(ROW_COUNT):\n",
    "        for col in range(COLUMN_COUNT - 3):\n",
    "            window = [board[row][col+i] for i in range(4)]\n",
    "            score += evaluate_window(window, piece)\n",
    "\n",
    "    for row in range(ROW_COUNT - 3):\n",
    "        for col in range(COLUMN_COUNT):\n",
    "            window = [board[row+i][col] for i in range(4)]\n",
    "            score += evaluate_window(window, piece)\n",
    "\n",
    "    for row in range(ROW_COUNT - 3):\n",
    "        for col in range(COLUMN_COUNT - 3):\n",
    "            window = [board[row+i][col+i] for i in range(4)]\n",
    "            score += evaluate_window(window, piece)\n",
    "\n",
    "    for row in range(ROW_COUNT - 3):\n",
    "        for col in range(3, COLUMN_COUNT):\n",
    "            window = [board[row+i][col-i] for i in range(4)]\n",
    "            score += evaluate_window(window, piece)\n",
    "\n",
    "    return score"
   ]
  },
  {
   "cell_type": "markdown",
   "id": "5e901dea66c326a1",
   "metadata": {},
   "source": [
    "Fill in the code to implement the minimax algorithm with alpha beta pruning using the utility function provided."
   ]
  },
  {
   "cell_type": "code",
   "execution_count": 31,
   "id": "fbe1057a-effa-4bec-9345-72a3752f187b",
   "metadata": {
    "ExecuteTime": {
     "end_time": "2024-09-28T21:08:12.759605Z",
     "start_time": "2024-09-28T21:08:12.754221Z"
    }
   },
   "outputs": [],
   "source": [
    "def minimax(board, depth, alpha, beta, maximizingPlayer):\n",
    "    # TODO: Retrieve the list of valid moves\n",
    "    # TODO: Return the appropriate value if a terminal condition (win/loss/draw/max_depth) is met\n",
    "    # TODO: Check whose turn it is, and apply minimax logic for that player; recursively call with decreased depth for the opponent\n",
    "    # TODO: Implement alpha-beta pruning to optimize the search\n",
    "    # NOTE: Be careful not to alter the original board during recursive exploration\n",
    "    # NOTE: This function is supposed to find the best column to drop a piece on\n",
    "    # Return best column to drop and the value associated to this move\n",
    "    # Return best_column, value\n",
    "    valid_locations = get_valid_locations(board)\n",
    "    player_won = winning_move(board, PLAYER_PIECE)\n",
    "    AI_won = winning_move(board, AI_PIECE)\n",
    "    draw = len(valid_locations) == 0\n",
    "    is_terminal_condition = player_won or AI_won or draw\n",
    "\n",
    "    if depth == 0 or is_terminal_condition:\n",
    "        if is_terminal_condition:\n",
    "            if AI_won:\n",
    "                return (None, 100000000000000)\n",
    "            elif player_won:\n",
    "                return (None, -100000000000000)\n",
    "            else:\n",
    "                return (None, 0)\n",
    "        else:\n",
    "            return (None, score_position(board, AI_PIECE))\n",
    "\n",
    "    if maximizingPlayer:\n",
    "        value = -math.inf\n",
    "        best_column = random.choice(valid_locations)\n",
    "        for col in valid_locations:\n",
    "            row = get_next_open_row(board, col)\n",
    "            board_copy = board.copy()\n",
    "            drop_piece(board_copy, col, AI_PIECE)\n",
    "            new_score = minimax(board_copy, depth - 1, alpha, beta, False)[1]\n",
    "            if new_score > value:\n",
    "                value = new_score\n",
    "                best_column = col\n",
    "            alpha = max(alpha, value)\n",
    "            if alpha >= beta:\n",
    "                break\n",
    "        return best_column, value\n",
    "\n",
    "    else:\n",
    "        value = math.inf\n",
    "        best_column = random.choice(valid_locations)\n",
    "        for col in valid_locations:\n",
    "            row = get_next_open_row(board, col)\n",
    "            board_copy = board.copy()\n",
    "            drop_piece(board_copy, col, PLAYER_PIECE)\n",
    "            new_score = minimax(board_copy, depth - 1, alpha, beta, True)[1]\n",
    "            if new_score < value:\n",
    "                value = new_score\n",
    "                best_column = col\n",
    "            beta = min(beta, value)\n",
    "            if alpha >= beta:\n",
    "                break\n",
    "        return best_column, value"
   ]
  },
  {
   "cell_type": "markdown",
   "id": "99f8d53a522ea625",
   "metadata": {},
   "source": [
    "# P3 : PVE (0 points)"
   ]
  },
  {
   "cell_type": "markdown",
   "id": "2e6a715daea2b583",
   "metadata": {},
   "source": [
    "Run this code to test your AI's performance. It is recommended to execute this part locally."
   ]
  },
  {
   "cell_type": "code",
   "execution_count": 35,
   "id": "7fb5207c-57ee-4db0-b970-617f39d49dc9",
   "metadata": {
    "ExecuteTime": {
     "end_time": "2024-09-28T21:37:33.478832Z",
     "start_time": "2024-09-28T21:35:50.965374Z"
    }
   },
   "outputs": [
    {
     "name": "stdout",
     "output_type": "stream",
     "text": [
      "Player 2 wins!!\n"
     ]
    }
   ],
   "source": [
    "pygame.init()\n",
    "width = COLUMN_COUNT * SQUARESIZE\n",
    "height = (ROW_COUNT + 1) * SQUARESIZE\n",
    "size = (width, height)\n",
    "screen = pygame.display.set_mode(size)\n",
    "myfont = pygame.font.SysFont(\"monospace\", 75)\n",
    "\n",
    "def rotate_board(board):\n",
    "    rotated_board = np.rot90(board)\n",
    "    for col in range(rotated_board.shape[1]):\n",
    "        column = rotated_board[:, col]\n",
    "        non_empty = column[column != 0]\n",
    "        empty_count = ROW_COUNT - len(non_empty)\n",
    "        rotated_board[:, col] = np.concatenate((non_empty, np.zeros(empty_count)))\n",
    "    return rotated_board\n",
    "\n",
    "def draw_board(board):\n",
    "    for c in range(COLUMN_COUNT):\n",
    "        for r in range(ROW_COUNT):\n",
    "            pygame.draw.rect(screen, FG_COLOR, (c * SQUARESIZE, r * SQUARESIZE + SQUARESIZE, SQUARESIZE, SQUARESIZE))\n",
    "            pygame.draw.circle(screen, BG_COLOR, (\n",
    "                int(c * SQUARESIZE + SQUARESIZE / 2), int(r * SQUARESIZE + SQUARESIZE + SQUARESIZE / 2)), RADIUS)\n",
    "\n",
    "    for c in range(COLUMN_COUNT):\n",
    "        for r in range(ROW_COUNT):\n",
    "            if board[r][c] == PLAYER_PIECE:\n",
    "                pygame.draw.circle(screen, P1_COLOR, (\n",
    "                    int(c * SQUARESIZE + SQUARESIZE / 2), height - int(r * SQUARESIZE + SQUARESIZE / 2)), RADIUS)\n",
    "            elif board[r][c] == AI_PIECE:\n",
    "                pygame.draw.circle(screen, P2_COLOR, (\n",
    "                    int(c * SQUARESIZE + SQUARESIZE / 2), height - int(r * SQUARESIZE + SQUARESIZE / 2)), RADIUS)\n",
    "    pygame.display.update()\n",
    "\n",
    "def run_game():\n",
    "    board = create_board()\n",
    "    draw_board(board)\n",
    "    game_over = False\n",
    "    turn = random.choice([0, 1])\n",
    "    while not game_over:\n",
    "        for event in pygame.event.get():\n",
    "            if event.type == pygame.QUIT:\n",
    "                pygame.quit()\n",
    "                return\n",
    "\n",
    "            if event.type == pygame.MOUSEMOTION:\n",
    "                pygame.draw.rect(screen, BG_COLOR, (0, 0, width, SQUARESIZE))\n",
    "                posx = event.pos[0]\n",
    "                if turn == PLAYER:\n",
    "                    pygame.draw.circle(screen, P1_COLOR, (posx, int(SQUARESIZE / 2)), RADIUS)\n",
    "\n",
    "            pygame.display.update()\n",
    "\n",
    "            if event.type == pygame.MOUSEBUTTONDOWN:\n",
    "                pygame.draw.rect(screen, BG_COLOR, (0, 0, width, SQUARESIZE))\n",
    "                if turn == PLAYER:\n",
    "                    posx = event.pos[0]\n",
    "                    col = int(math.floor(posx / SQUARESIZE))\n",
    "\n",
    "                    if is_valid_location(board, col):\n",
    "                        drop_piece(board, col, PLAYER_PIECE)\n",
    "                        if random.random() <= 0.125:\n",
    "                            board = rotate_board(board)\n",
    "                            draw_board(board)\n",
    "                            pygame.time.wait(1500)\n",
    "\n",
    "                        if winning_move(board, AI_PIECE):\n",
    "                            label = myfont.render(\"Player 2 wins!!\", 1, P2_COLOR)\n",
    "                            print(\"Player 2 wins!!\")\n",
    "                            screen.blit(label, (40, 10))\n",
    "                            game_over = True\n",
    "                        elif winning_move(board, PLAYER_PIECE):\n",
    "                            label = myfont.render(\"Player 1 wins!!\", 1, P1_COLOR)\n",
    "                            print(\"Player 1 wins!!\")\n",
    "                            screen.blit(label, (40, 10))\n",
    "                            game_over = True\n",
    "\n",
    "                        turn += 1\n",
    "                        turn = turn % 2\n",
    "                        draw_board(board)\n",
    "\n",
    "        if turn == AI and not game_over:\n",
    "            col, minimax_score = minimax(board, 5, -math.inf, math.inf, True)\n",
    "\n",
    "            if is_valid_location(board, col):\n",
    "                drop_piece(board, col, AI_PIECE)\n",
    "\n",
    "                if random.random() <= 0.125:\n",
    "                    board = rotate_board(board)\n",
    "                    draw_board(board)\n",
    "                    pygame.time.wait(1500)\n",
    "\n",
    "                if winning_move(board, PLAYER_PIECE):\n",
    "                    label = myfont.render(\"Player 1 wins!!\", 1, P1_COLOR)\n",
    "                    print(\"Player 1 wins!!\")\n",
    "                    screen.blit(label, (40, 10))\n",
    "                    game_over = True\n",
    "                elif winning_move(board, AI_PIECE):\n",
    "                    label = myfont.render(\"Player 2 wins!!\", 1, P2_COLOR)\n",
    "                    print(\"Player 2 wins!!\")\n",
    "                    screen.blit(label, (40, 10))\n",
    "                    game_over = True\n",
    "\n",
    "                turn += 1\n",
    "                turn = turn % 2\n",
    "                draw_board(board)\n",
    "\n",
    "        if game_over:\n",
    "            pygame.time.wait(3000)\n",
    "            pygame.quit()\n",
    "            return\n",
    "\n",
    "\n",
    "run_game()"
   ]
  },
  {
   "cell_type": "markdown",
   "id": "2eb69cd3d5970d9f",
   "metadata": {},
   "source": [
    "# P4 : EVE (30 points)"
   ]
  },
  {
   "cell_type": "markdown",
   "id": "17603a8d0ea2c314",
   "metadata": {},
   "source": [
    "In this section, we will simulate an AI battle where your AI heuristic should outperform our provided heuristic. Don’t worry; the opposing AI is not optimal, but if your scoring approach is inadequate, you may lose some credit from P2. Your AI should demonstrate a significant advantage, meaning it should consistently beat our AI on average, regardless of whether it plays as the first or second player. Please note that your search tree should can't have a higher depth than our heuristic."
   ]
  },
  {
   "cell_type": "markdown",
   "id": "b1f1d0cecad1748a",
   "metadata": {},
   "source": [
    "Implement the minimax algorithm similar to your main minimax function. However, do not modify the tester_evaluate_window and tester_score_position functions. Remember to utilize tester_score_position within tester_minimax!"
   ]
  },
  {
   "cell_type": "code",
   "execution_count": 37,
   "id": "8410d559a028936",
   "metadata": {
    "ExecuteTime": {
     "end_time": "2024-09-29T11:04:33.752794Z",
     "start_time": "2024-09-29T11:04:33.745665Z"
    }
   },
   "outputs": [],
   "source": [
    "def tester_evaluate_window(window, piece):\n",
    "    score = 0\n",
    "    opp_piece = PLAYER_PIECE if piece == AI_PIECE else AI_PIECE\n",
    "    if window.count(piece) == 4:\n",
    "        score += 100\n",
    "    elif window.count(piece) == 3 and window.count(EMPTY) == 1:\n",
    "        score += 5\n",
    "    elif window.count(piece) == 2 and window.count(EMPTY) == 2:\n",
    "        score += 2\n",
    "    if window.count(opp_piece) == 3 and window.count(EMPTY) == 1:\n",
    "        score -= 4\n",
    "    return score\n",
    "\n",
    "\n",
    "def tester_score_position(board, piece):\n",
    "    score = 0\n",
    "    center_array = [int(i) for i in list(board[:, COLUMN_COUNT // 2])]\n",
    "    score += center_array.count(piece) * 3\n",
    "\n",
    "    for r in range(ROW_COUNT):\n",
    "        row_array = [int(i) for i in list(board[r, :])]\n",
    "        for c in range(COLUMN_COUNT - 3):\n",
    "            window = row_array[c:c + WINDOW_LENGTH]\n",
    "            score += tester_evaluate_window(window, piece)\n",
    "\n",
    "    for c in range(COLUMN_COUNT):\n",
    "        col_array = [int(i) for i in list(board[:, c])]\n",
    "        for r in range(ROW_COUNT - 3):\n",
    "            window = col_array[r:r + WINDOW_LENGTH]\n",
    "            score += tester_evaluate_window(window, piece)\n",
    "\n",
    "    for r in range(ROW_COUNT - 3):\n",
    "        for c in range(COLUMN_COUNT - 3):\n",
    "            window = [board[r + i][c + i] for i in range(WINDOW_LENGTH)]\n",
    "            score += tester_evaluate_window(window, piece)\n",
    "\n",
    "    for r in range(ROW_COUNT - 3):\n",
    "        for c in range(COLUMN_COUNT - 3):\n",
    "            window = [board[r + 3 - i][c + i] for i in range(WINDOW_LENGTH)]\n",
    "            score += tester_evaluate_window(window, piece)\n",
    "\n",
    "\n",
    "def tester_minimax(board, depth, alpha, beta, maximizingPlayer):\n",
    "    # TODO: Implement using your main minimax logic\n",
    "    # NOTE: Remember to replace score_position with tester_score_position!!!\n",
    "    # NOTE: In this function, you represent the \"AI\" and the tester represents the \"PLAYER\".\n",
    "    #       No further changes are needed if you haven't modified the constants.\n",
    "\n",
    "    valid_locations = get_valid_locations(board)\n",
    "    player_won = winning_move(board, PLAYER_PIECE)\n",
    "    AI_won = winning_move(board, AI_PIECE)\n",
    "    draw = len(valid_locations) == 0\n",
    "\n",
    "    is_terminal_condition = player_won or AI_won or draw\n",
    "\n",
    "    if depth == 0 or is_terminal_condition:\n",
    "        if AI_won:\n",
    "            return None, 1000000 \n",
    "        elif player_won:\n",
    "            return None, -1000000  \n",
    "        else:\n",
    "            return None, 0 \n",
    "\n",
    "    if maximizingPlayer:\n",
    "        max_eval = -math.inf\n",
    "        best_col = random.choice(valid_locations)\n",
    "        for col in valid_locations:\n",
    "            row = get_next_open_row(board, col)\n",
    "            temp_board = board.copy()\n",
    "            drop_piece(temp_board, col, AI_PIECE)\n",
    "            _, score = tester_minimax(temp_board, depth - 1, alpha, beta, False)\n",
    "            if score > max_eval:\n",
    "                max_eval = score\n",
    "                best_col = col\n",
    "            alpha = max(alpha, score)\n",
    "            if alpha >= beta:\n",
    "                break\n",
    "        return best_col, max_eval\n",
    "\n",
    "    else:\n",
    "        min_eval = math.inf\n",
    "        best_col = random.choice(valid_locations)\n",
    "        for col in valid_locations:\n",
    "            row = get_next_open_row(board, col)\n",
    "            temp_board = board.copy()\n",
    "            drop_piece(temp_board, col, PLAYER_PIECE)\n",
    "            _, score = tester_minimax(temp_board, depth - 1, alpha, beta, True)\n",
    "            if score < min_eval:\n",
    "                min_eval = score\n",
    "                best_col = col\n",
    "            beta = min(beta, score)\n",
    "            if alpha >= beta:\n",
    "                break\n",
    "        return best_col, min_eval\n"
   ]
  },
  {
   "cell_type": "code",
   "execution_count": 39,
   "id": "aaa8fef2dc4a9cbb",
   "metadata": {
    "ExecuteTime": {
     "end_time": "2024-09-28T22:16:12.470081Z",
     "start_time": "2024-09-28T22:16:12.462655Z"
    }
   },
   "outputs": [],
   "source": [
    "def simulate_game():\n",
    "    board = create_board()\n",
    "    starting_turn = turn = random.choice([0, 1])\n",
    "\n",
    "    game_over = False\n",
    "    while not game_over:\n",
    "        if turn == PLAYER:\n",
    "            col, minimax_score = tester_minimax(board, 4, -math.inf, math.inf, True)\n",
    "            if is_valid_location(board, col):\n",
    "                drop_piece(board, col, PLAYER_PIECE)\n",
    "                if random.random() <= 0.125:\n",
    "                    board = rotate_board(board)\n",
    "\n",
    "                if winning_move(board, AI_PIECE):\n",
    "                    return 1, starting_turn\n",
    "\n",
    "                elif winning_move(board, PLAYER_PIECE):\n",
    "                    return 0, starting_turn\n",
    "                turn += 1\n",
    "                turn = turn % 2\n",
    "\n",
    "        if turn == AI and not game_over:\n",
    "            col, minimax_score = minimax(board, 4, -math.inf, math.inf, True)\n",
    "            if is_valid_location(board, col):\n",
    "                drop_piece(board, col, AI_PIECE)\n",
    "                if random.random() <= 0.125:\n",
    "                    board = rotate_board(board)\n",
    "                if winning_move(board, PLAYER_PIECE):\n",
    "                    return 0, starting_turn\n",
    "                elif winning_move(board, AI_PIECE):\n",
    "                    return 1, starting_turn\n",
    "\n",
    "                turn += 1\n",
    "                turn = turn % 2"
   ]
  },
  {
   "cell_type": "markdown",
   "id": "9a86c67316e6c039",
   "metadata": {},
   "source": [
    "Run this tester. You need to win at least 65% of the games to pass. \n",
    "<br>\n",
    "The code execution should take less than 10 minutes to complete. If it exceeds this time, performance optimization might be necessary."
   ]
  },
  {
   "cell_type": "code",
   "execution_count": 55,
   "id": "378e9176f8eb177a",
   "metadata": {
    "ExecuteTime": {
     "end_time": "2024-09-28T22:19:35.678691Z",
     "start_time": "2024-09-28T22:16:13.902896Z"
    }
   },
   "outputs": [
    {
     "name": "stdout",
     "output_type": "stream",
     "text": [
      "you won 0.82% of games\n",
      "you throw 0.05% of games\n",
      "you lost logically 0.13% of games\n",
      "Code execution time: 111.4025 seconds\n"
     ]
    }
   ],
   "source": [
    "wins = 0\n",
    "tests = 100\n",
    "throw = 0\n",
    "disadvantage = 0\n",
    "\n",
    "start_time = time.time()\n",
    "\n",
    "for i in range(tests):\n",
    "    result = simulate_game()\n",
    "    if result[1] == PLAYER and result[0] == 0: disadvantage += 1\n",
    "    if result[1] == AI and result[0] == 0: throw += 1\n",
    "    wins += result[0]\n",
    "\n",
    "end_time = time.time()\n",
    "\n",
    "print(f\"you won {wins / tests}% of games\")\n",
    "print(f\"you throw {throw / tests}% of games\")\n",
    "print(f\"you lost logically {disadvantage / tests}% of games\")\n",
    "print(f\"Code execution time: {end_time - start_time:.4f} seconds\")"
   ]
  }
 ],
 "metadata": {
  "kernelspec": {
   "display_name": "Python 3 (ipykernel)",
   "language": "python",
   "name": "python3"
  },
  "language_info": {
   "codemirror_mode": {
    "name": "ipython",
    "version": 3
   },
   "file_extension": ".py",
   "mimetype": "text/x-python",
   "name": "python",
   "nbconvert_exporter": "python",
   "pygments_lexer": "ipython3",
   "version": "3.12.4"
  }
 },
 "nbformat": 4,
 "nbformat_minor": 5
}
